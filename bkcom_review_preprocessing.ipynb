{
 "cells": [
  {
   "cell_type": "code",
   "execution_count": 10,
   "metadata": {},
   "outputs": [],
   "source": [
    "import pandas as pd\n",
    "import csv\n",
    "\n",
    "file_name = '/Users/chris/Desktop/Net_Scrapping/Selenium_driver/output/bkcom_review_raw.csv'\n",
    "output_file = '/Users/chris/Desktop/Net_Scrapping/Selenium_driver/output/bkcom_reviews_filtered.csv'\n",
    "\n",
    "\n",
    "df = pd.read_csv(file_name)\n",
    "\n",
    "with open(output_file, 'w', encoding='utf-8') as f:\n",
    "    writer = csv.writer(f)\n",
    "    writer.writerow(['review'])\n",
    "    for row in df.itertuples(index=False):\n",
    "        for value in row:\n",
    "            if pd.notnull(value):\n",
    "                writer.writerow([value])\n",
    "    "
   ]
  },
  {
   "cell_type": "code",
   "execution_count": 13,
   "metadata": {},
   "outputs": [],
   "source": [
    "file_name = '/Users/chris/Desktop/Net_Scrapping/Selenium_driver/output/bkcom_reviews_filtered.csv'\n",
    "output_file = '/Users/chris/Desktop/Net_Scrapping/Selenium_driver/output/bkcom_reviews_filtered.csv'\n",
    "\n",
    "df = pd.read_csv(file_name)\n",
    "\n",
    "default_review = [\"傑出\", \"非常好\", \"好\", \"尚可\",\"好極了\",\"令人愉悅\"]\n",
    "\n",
    "filtered_df = df[~df['review'].isin(default_review)]\n",
    "\n",
    "filtered_df.to_csv(output_file, index=False)"
   ]
  },
  {
   "cell_type": "code",
   "execution_count": null,
   "metadata": {},
   "outputs": [],
   "source": []
  }
 ],
 "metadata": {
  "kernelspec": {
   "display_name": "DataScience",
   "language": "python",
   "name": "python3"
  },
  "language_info": {
   "codemirror_mode": {
    "name": "ipython",
    "version": 3
   },
   "file_extension": ".py",
   "mimetype": "text/x-python",
   "name": "python",
   "nbconvert_exporter": "python",
   "pygments_lexer": "ipython3",
   "version": "3.10.10"
  },
  "orig_nbformat": 4
 },
 "nbformat": 4,
 "nbformat_minor": 2
}
