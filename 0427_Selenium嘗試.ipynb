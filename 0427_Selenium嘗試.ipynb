{
 "cells": [
  {
   "cell_type": "code",
   "execution_count": 1,
   "id": "230422c1",
   "metadata": {},
   "outputs": [],
   "source": [
    "from selenium import webdriver\n",
    "\n",
    "\n",
    "from selenium.webdriver.common.by import By\n",
    "from selenium.webdriver.common.keys import Keys\n",
    "import time\n",
    "\n",
    "browser = webdriver.Edge()\n",
    "browser.get('https://www.google.com/')\n"
   ]
  },
  {
   "cell_type": "code",
   "execution_count": null,
   "id": "cc0bcde5",
   "metadata": {},
   "outputs": [],
   "source": []
  },
  {
   "cell_type": "code",
   "execution_count": 5,
   "id": "c8073680",
   "metadata": {},
   "outputs": [],
   "source": [
    "import requests\n",
    "import json\n",
    "#點選「更多評論」後的網址\n",
    "link = \"https://www.google.com.tw/travel/hotels/entity/ChcIgdn6i_z3gLcrGgsvZy8xdnhjdDRsdhAB/reviews?sa=X&utm_campaign=sharing&utm_medium=link&utm_source=htls&ts=CAESABogCgIaABIaEhQKBwjnDxAFGAcSBwjnDxAFGAgYATICEAAqCQoFOgNVU0QaAA&ved=0CAAQ5JsGahcKEwigsZ3QseD-AhUAAAAAHQAAAAAQBA\"\n",
    "browser.get(link)\n",
    "time.sleep(2)\n",
    "\n",
    "#評論排序選單\n",
    "sortedstroll = browser.find_element(By.XPATH,'//*[@id=\"reviews\"]/c-wiz/c-wiz/div/div/div/div/div[3]/div/div[3]/span[1]/span/div/div[1]/div[1]/div[1]')\n",
    "sortedstroll.click()\n",
    "time.sleep(1)\n",
    "#依造最新的來做評論排序\n",
    "Latest =  browser.find_element(By.XPATH,'//*[@id=\"reviews\"]/c-wiz/c-wiz/div/div/div/div/div[3]/div/div[3]/span[1]/span/div[1]/div[2]/div[2]')\n",
    "Latest.click()\n",
    "time.sleep(5)"
   ]
  },
  {
   "cell_type": "code",
   "execution_count": 90,
   "id": "82a0d914",
   "metadata": {},
   "outputs": [],
   "source": [
    "#向下滑評論 \n",
    "#num_scroll->向下滑次數\n",
    "sidebar_address = '//*[@id=\"reviews\"]/c-wiz/c-wiz/div/div/div/div/div[3]/div/div[1]/form/input'\n",
    "sidebar_div=browser.find_element(By.XPATH,sidebar_address) #選取sidebar\n",
    "sidebar_div.click()\n",
    "\n",
    "\n",
    "num_scroll=5 # how many times do you want to scroll\n",
    "#50次->300評論\n",
    "\n",
    "for page_down in range(0,num_scroll): #向下滑\n",
    "    ele = browser.find_element(By.XPATH,'//*[@id=\"yDmH0d\"]/c-wiz/div/div/c-wiz/div/div/div/div[2]/div[2]')\n",
    "    browser.execute_script('arguments[0].scrollBy(0, 5000);', ele)\n",
    "    time.sleep(2)\n"
   ]
  },
  {
   "cell_type": "code",
   "execution_count": 6,
   "id": "957ff798",
   "metadata": {},
   "outputs": [],
   "source": [
    "import pandas as pd\n",
    "\n",
    "#這個可以用在google travel下滑網頁\n",
    "#也可以用來點readmore\n",
    "\n",
    "#name_list = []\n",
    "review_list = []\n",
    "count = 0\n",
    "\n",
    "def click_read_more():\n",
    "    item = browser.find_elements(By.XPATH,'//*[@id=\"reviews\"]/c-wiz/c-wiz/div/div/div/div/div[4]')#用來定位Read more按鈕\n",
    "    for i in item:\n",
    "        buttons = i.find_elements(By.CSS_SELECTOR,'span[jsname=\"kDNJsb\"]')#找出所有的閱讀完整內容\n",
    "        for button in buttons:\n",
    "            if button.text == \"閱讀完整內容\":\n",
    "                #點擊的程式碼，功能類似click()\n",
    "                browser.execute_script(\"arguments[0].click();\", button)\n",
    "        \n",
    "    time.sleep(1)\n",
    "\n",
    "while True:\n",
    "    \n",
    "    count+=1\n",
    "    last_height = browser.execute_script(\"return document.body.scrollHeight\")  # checking page height in pixels before scrolling\n",
    "    browser.execute_script(\"window.scrollBy(0, 10000)\")                        # scroll down 10000 pixels\n",
    "    browser.execute_script(\"window.scrollBy(0, -200)\")                         # scroll up by 200 pixels (if this is not done, new data will not be loaded)\n",
    "    time.sleep(2)\n",
    "    new_height = browser.execute_script(\"return document.body.scrollHeight\")   # check page height after scrolling\n",
    "    click_read_more()\n",
    "    #點開「閱讀完整內容」\n",
    "    #if count == 5:\n",
    "     #   click_read_more()\n",
    "    \n",
    "        \n",
    "    # if the height of the start of scrolling and the height of the end of scrolling are equal, then the scrolling is completed and you can exit the loop\n",
    "    if new_height == last_height:\n",
    "        #click_read_more()\n",
    "        break\n",
    "\n",
    "#for i in item:\n",
    "review_list=[]\n",
    "comments = browser.find_elements(By.XPATH, '//div[@class=\"K7oBsc\"]//span')\n",
    "\n",
    "for comment in comments:\n",
    "    review_list.append(comment.text)\n",
    "\n",
    "    review = pd.DataFrame({'review': review_list,})\n",
    "\n",
    "review.to_csv(r'/Users/chris/Desktop/Net_Scrapping/Selenium_driver/output/Kaizer_hotel_google_review_0508.csv',index=False)\n",
    "\n"
   ]
  },
  {
   "cell_type": "code",
   "execution_count": 23,
   "id": "e6a673fb",
   "metadata": {},
   "outputs": [
    {
     "name": "stdout",
     "output_type": "stream",
     "text": [
      "                                                review\n",
      "0             墾丁知名的老牌飯店\\n室內有重新整理過 親子友善\\n走步道至小灣整體還算安全方便\n",
      "1                                           第一次入住，整體感覺\n",
      "2    整體來說很舒服，房間很大也很清幽，隔音設施也好不吵雜，唯一美中不足的是早餐實施分段制且還真的...\n",
      "3                                           墾丁cp值最好的飯店\n",
      "4                                                     \n",
      "..                                                 ...\n",
      "176  第一次入住，整體還行\\n以往都是華泰忠實粉絲，想說慶生換來有海灘的五星級凱撒，沒有什麼驚喜感...\n",
      "177                                             閱讀完整內容\n",
      "178                                                   \n",
      "179                                           房間，櫃檯服務好\n",
      "180                  家人喜愛的渡假飯店\\n客房翻新後，更棒了\\n服務人員與體驗依舊優秀\n",
      "\n",
      "[181 rows x 1 columns]\n"
     ]
    }
   ],
   "source": [
    "#item = browser.find_elements(By.XPATH,'//*[@id=\"reviews\"]/c-wiz/c-wiz/div/div/div/div/div[4]')#用來定位Read more按鈕\n",
    "import pandas as pd\n",
    "#for i in item:\n",
    "review_list=[]\n",
    "comments = browser.find_elements(By.XPATH, '//div[@class=\"K7oBsc\"]//span')\n",
    "for comment in comments:\n",
    "    review_list.append(comment.text)\n",
    "\n",
    "\n",
    "\n",
    "    review = pd.DataFrame(\n",
    "    {\n",
    "     'review': review_list,})\n",
    "\n",
    "review.to_csv(r'/Users/chris/Desktop/Net_Scrapping/Selenium_driver/output/Kaizer_hotel_google_review_0508.csv',index=False)\n"
   ]
  },
  {
   "cell_type": "code",
   "execution_count": 10,
   "metadata": {},
   "outputs": [],
   "source": [
    "#嘗試找出read more\n",
    "item = browser.find_elements(By.XPATH,'//*[@id=\"reviews\"]/c-wiz/c-wiz/div/div/div/div/div[4]')\n",
    "\n",
    "time.sleep(3)\n",
    "\n",
    "for i in item:\n",
    "    #button = i.find_elements(By.CLASS_NAME,'Jmi7d TJUuge')\n",
    "    buttons = i.find_elements(By.CSS_SELECTOR,'span[jsname=\"kDNJsb\"]')#找出所有的閱讀完整內容\n",
    "    for button in buttons:\n",
    "        if button.text == \"閱讀完整內容\":\n",
    "            #點擊的程式碼，功能類似click()\n",
    "            browser.execute_script(\"arguments[0].click();\", button)\n",
    "        #j.click()\n",
    "        time.sleep(1)\n",
    "\n"
   ]
  },
  {
   "cell_type": "code",
   "execution_count": 100,
   "id": "67b49eb4",
   "metadata": {},
   "outputs": [
    {
     "ename": "WebDriverException",
     "evalue": "Message: disconnected: not connected to DevTools\n  (failed to check if window was closed: disconnected: not connected to DevTools)\n  (Session info: MicrosoftEdge=113.0.1774.35)\nStacktrace:\n0   msedgedriver                        0x0000000100b7d05c msedgedriver + 4444252\n1   msedgedriver                        0x0000000100b7535c msedgedriver + 4412252\n2   msedgedriver                        0x000000010077e124 msedgedriver + 254244\n3   msedgedriver                        0x0000000100769418 msedgedriver + 168984\n4   msedgedriver                        0x00000001007691d4 msedgedriver + 168404\n5   msedgedriver                        0x00000001007e7288 msedgedriver + 684680\n6   msedgedriver                        0x00000001007ab788 msedgedriver + 440200\n7   msedgedriver                        0x00000001007ac908 msedgedriver + 444680\n8   msedgedriver                        0x0000000100b434b4 msedgedriver + 4207796\n9   msedgedriver                        0x0000000100b46ee0 msedgedriver + 4222688\n10  msedgedriver                        0x0000000100b46aa0 msedgedriver + 4221600\n11  msedgedriver                        0x0000000100b4c124 msedgedriver + 4243748\n12  msedgedriver                        0x0000000100b47750 msedgedriver + 4224848\n13  msedgedriver                        0x0000000100b2764c msedgedriver + 4093516\n14  msedgedriver                        0x0000000100b61548 msedgedriver + 4330824\n15  msedgedriver                        0x0000000100b61660 msedgedriver + 4331104\n16  msedgedriver                        0x0000000100b6fc00 msedgedriver + 4389888\n17  libsystem_pthread.dylib             0x00000001863a606c _pthread_start + 148\n18  libsystem_pthread.dylib             0x00000001863a0e2c thread_start + 8\n",
     "output_type": "error",
     "traceback": [
      "\u001b[0;31m---------------------------------------------------------------------------\u001b[0m",
      "\u001b[0;31mWebDriverException\u001b[0m                        Traceback (most recent call last)",
      "Cell \u001b[0;32mIn[100], line 4\u001b[0m\n\u001b[1;32m      1\u001b[0m \u001b[39m#向下滑評論 \u001b[39;00m\n\u001b[1;32m      2\u001b[0m \u001b[39m#num_scroll->向下滑次數\u001b[39;00m\n\u001b[1;32m      3\u001b[0m sidebar_address \u001b[39m=\u001b[39m \u001b[39m'\u001b[39m\u001b[39m//*[@id=\u001b[39m\u001b[39m\"\u001b[39m\u001b[39mreviews\u001b[39m\u001b[39m\"\u001b[39m\u001b[39m]/c-wiz/c-wiz/div/div/div/div/div[3]/div/div[1]/form/input\u001b[39m\u001b[39m'\u001b[39m\n\u001b[0;32m----> 4\u001b[0m sidebar_div\u001b[39m=\u001b[39mbrowser\u001b[39m.\u001b[39;49mfind_element(By\u001b[39m.\u001b[39;49mXPATH,sidebar_address) \u001b[39m#選取sidebar\u001b[39;00m\n\u001b[1;32m      5\u001b[0m sidebar_div\u001b[39m.\u001b[39mclick()\n\u001b[1;32m      8\u001b[0m num_scroll\u001b[39m=\u001b[39m\u001b[39m3\u001b[39m \u001b[39m# how many times do you want to scroll\u001b[39;00m\n",
      "File \u001b[0;32m~/opt/anaconda3/envs/DataScience/lib/python3.10/site-packages/selenium/webdriver/remote/webdriver.py:831\u001b[0m, in \u001b[0;36mWebDriver.find_element\u001b[0;34m(self, by, value)\u001b[0m\n\u001b[1;32m    828\u001b[0m     by \u001b[39m=\u001b[39m By\u001b[39m.\u001b[39mCSS_SELECTOR\n\u001b[1;32m    829\u001b[0m     value \u001b[39m=\u001b[39m \u001b[39mf\u001b[39m\u001b[39m'\u001b[39m\u001b[39m[name=\u001b[39m\u001b[39m\"\u001b[39m\u001b[39m{\u001b[39;00mvalue\u001b[39m}\u001b[39;00m\u001b[39m\"\u001b[39m\u001b[39m]\u001b[39m\u001b[39m'\u001b[39m\n\u001b[0;32m--> 831\u001b[0m \u001b[39mreturn\u001b[39;00m \u001b[39mself\u001b[39;49m\u001b[39m.\u001b[39;49mexecute(Command\u001b[39m.\u001b[39;49mFIND_ELEMENT, {\u001b[39m\"\u001b[39;49m\u001b[39musing\u001b[39;49m\u001b[39m\"\u001b[39;49m: by, \u001b[39m\"\u001b[39;49m\u001b[39mvalue\u001b[39;49m\u001b[39m\"\u001b[39;49m: value})[\u001b[39m\"\u001b[39m\u001b[39mvalue\u001b[39m\u001b[39m\"\u001b[39m]\n",
      "File \u001b[0;32m~/opt/anaconda3/envs/DataScience/lib/python3.10/site-packages/selenium/webdriver/remote/webdriver.py:440\u001b[0m, in \u001b[0;36mWebDriver.execute\u001b[0;34m(self, driver_command, params)\u001b[0m\n\u001b[1;32m    438\u001b[0m response \u001b[39m=\u001b[39m \u001b[39mself\u001b[39m\u001b[39m.\u001b[39mcommand_executor\u001b[39m.\u001b[39mexecute(driver_command, params)\n\u001b[1;32m    439\u001b[0m \u001b[39mif\u001b[39;00m response:\n\u001b[0;32m--> 440\u001b[0m     \u001b[39mself\u001b[39;49m\u001b[39m.\u001b[39;49merror_handler\u001b[39m.\u001b[39;49mcheck_response(response)\n\u001b[1;32m    441\u001b[0m     response[\u001b[39m\"\u001b[39m\u001b[39mvalue\u001b[39m\u001b[39m\"\u001b[39m] \u001b[39m=\u001b[39m \u001b[39mself\u001b[39m\u001b[39m.\u001b[39m_unwrap_value(response\u001b[39m.\u001b[39mget(\u001b[39m\"\u001b[39m\u001b[39mvalue\u001b[39m\u001b[39m\"\u001b[39m, \u001b[39mNone\u001b[39;00m))\n\u001b[1;32m    442\u001b[0m     \u001b[39mreturn\u001b[39;00m response\n",
      "File \u001b[0;32m~/opt/anaconda3/envs/DataScience/lib/python3.10/site-packages/selenium/webdriver/remote/errorhandler.py:245\u001b[0m, in \u001b[0;36mErrorHandler.check_response\u001b[0;34m(self, response)\u001b[0m\n\u001b[1;32m    243\u001b[0m         alert_text \u001b[39m=\u001b[39m value[\u001b[39m\"\u001b[39m\u001b[39malert\u001b[39m\u001b[39m\"\u001b[39m]\u001b[39m.\u001b[39mget(\u001b[39m\"\u001b[39m\u001b[39mtext\u001b[39m\u001b[39m\"\u001b[39m)\n\u001b[1;32m    244\u001b[0m     \u001b[39mraise\u001b[39;00m exception_class(message, screen, stacktrace, alert_text)  \u001b[39m# type: ignore[call-arg]  # mypy is not smart enough here\u001b[39;00m\n\u001b[0;32m--> 245\u001b[0m \u001b[39mraise\u001b[39;00m exception_class(message, screen, stacktrace)\n",
      "\u001b[0;31mWebDriverException\u001b[0m: Message: disconnected: not connected to DevTools\n  (failed to check if window was closed: disconnected: not connected to DevTools)\n  (Session info: MicrosoftEdge=113.0.1774.35)\nStacktrace:\n0   msedgedriver                        0x0000000100b7d05c msedgedriver + 4444252\n1   msedgedriver                        0x0000000100b7535c msedgedriver + 4412252\n2   msedgedriver                        0x000000010077e124 msedgedriver + 254244\n3   msedgedriver                        0x0000000100769418 msedgedriver + 168984\n4   msedgedriver                        0x00000001007691d4 msedgedriver + 168404\n5   msedgedriver                        0x00000001007e7288 msedgedriver + 684680\n6   msedgedriver                        0x00000001007ab788 msedgedriver + 440200\n7   msedgedriver                        0x00000001007ac908 msedgedriver + 444680\n8   msedgedriver                        0x0000000100b434b4 msedgedriver + 4207796\n9   msedgedriver                        0x0000000100b46ee0 msedgedriver + 4222688\n10  msedgedriver                        0x0000000100b46aa0 msedgedriver + 4221600\n11  msedgedriver                        0x0000000100b4c124 msedgedriver + 4243748\n12  msedgedriver                        0x0000000100b47750 msedgedriver + 4224848\n13  msedgedriver                        0x0000000100b2764c msedgedriver + 4093516\n14  msedgedriver                        0x0000000100b61548 msedgedriver + 4330824\n15  msedgedriver                        0x0000000100b61660 msedgedriver + 4331104\n16  msedgedriver                        0x0000000100b6fc00 msedgedriver + 4389888\n17  libsystem_pthread.dylib             0x00000001863a606c _pthread_start + 148\n18  libsystem_pthread.dylib             0x00000001863a0e2c thread_start + 8\n"
     ]
    }
   ],
   "source": [
    "\n",
    "name_list = []\n",
    "review_list = []\n",
    "\n",
    "#準備展開「全文」\n",
    "item = browser.find_elements(By.XPATH,'//*[@id=\"QA0Szd\"]/div/div/div[1]/div[2]/div/div[1]/div/div/div[5]/div[11]')\n",
    "time.sleep(5)\n",
    "#點擊全文展開\n",
    "for i in item:\n",
    "    \n",
    "    #開始保存評論\n",
    "    name = i.find_elements(By.CLASS_NAME, 'DHIhE QB2Jof')\n",
    "    review = i.find_elements(By.CLASS_NAME, 'K7oBsc')\n",
    "    \n",
    "    for j,k in zip(name,review):\n",
    "        name_list.append(j.text)\n",
    "        review_list.append(k.text)\n",
    "\n"
   ]
  },
  {
   "cell_type": "code",
   "execution_count": 16,
   "id": "a0b6356e",
   "metadata": {},
   "outputs": [
    {
     "name": "stdout",
     "output_type": "stream",
     "text": [
      "Empty DataFrame\n",
      "Columns: [name, review]\n",
      "Index: []\n"
     ]
    }
   ],
   "source": [
    "import pandas as pd\n",
    "review = pd.DataFrame(\n",
    "    {'name': name_list,\n",
    "     'review': review_list,})\n",
    "\n",
    "review.to_csv(r'/Users/chris/Desktop/Net_Scrapping/Selenium_driver/output/Kaizer_hotel_google_review.csv',index=False)\n",
    "print(review)"
   ]
  },
  {
   "cell_type": "code",
   "execution_count": null,
   "id": "914f5683",
   "metadata": {},
   "outputs": [],
   "source": [
    "name_list = []\n",
    "review_list = []\n",
    "\n",
    "#準備展開「全文」\n",
    "item = browser.find_elements(By.XPATH,'//*[@id=\"QA0Szd\"]/div/div/div[1]/div[2]/div/div[1]/div/div/div[5]/div[11]')\n",
    "time.sleep(5)\n",
    "\n",
    "for i in item:\n",
    "    button = i.find_elements(By.TAG_NAME, 'button')#find_elements_by_tag_name('button')\n",
    "    for m in button:\n",
    "        if m.text == \"全文\":\n",
    "            #點擊的程式碼，功能類似click()\n",
    "            browser.execute_script(\"arguments[0].click();\", m)\n",
    "            time.sleep(2)\n",
    "\n",
    "    name = i.find_elements(By.CLASS_NAME, 'd4r55')\n",
    "    review = i.find_elements(By.CLASS_NAME, 'wiI7pd')\n",
    "\n",
    "    for j,k in zip(name,review):\n",
    "        name_list.append(j.text)\n",
    "        review_list.append(k.text)\n"
   ]
  },
  {
   "cell_type": "code",
   "execution_count": null,
   "id": "6ea1b9cb",
   "metadata": {},
   "outputs": [],
   "source": [
    "#Google評論固定的名稱\n",
    "name = i.find_elements(By.CLASS_NAME, 'd4r55')\n",
    "review = i.find_elements(By.CLASS_NAME, 'wiI7pd')"
   ]
  },
  {
   "cell_type": "code",
   "execution_count": null,
   "id": "e94683ca",
   "metadata": {},
   "outputs": [],
   "source": [
    "full_button_id = 'w8nwRe kyuRq'\n",
    "full_article_button = browser.find_elements(By.CLASS_NAME,full_button_id)\n",
    "for button in full_article_button :\n",
    "    button.click()\n",
    "\n",
    "\n",
    "\n",
    "\n",
    "\n",
    "\n"
   ]
  },
  {
   "cell_type": "code",
   "execution_count": null,
   "id": "c08c69b5",
   "metadata": {},
   "outputs": [],
   "source": [
    "#評論排序選單\n",
    "sortedstroll = browser.find_element(By.XPATH,'//*[@id=\"QA0Szd\"]/div/div/div[1]/div[2]/div/div[1]/div/div/div[5]/div[9]/button[2]')\n",
    "sortedstroll.click()\n",
    "time.sleep(1)\n",
    "#依造最新的來做評論排序\n",
    "Latest =  browser.find_element(By.XPATH,'//*[@id=\"action-menu\"]/div[2]')\n",
    "Latest.click()\n",
    "time.sleep(5)\n",
    "\n",
    "#//*[@id=\"action-menu\"]/div[2]"
   ]
  },
  {
   "cell_type": "code",
   "execution_count": null,
   "id": "4d4aeac6",
   "metadata": {},
   "outputs": [
    {
     "ename": "ElementClickInterceptedException",
     "evalue": "Message: element click intercepted: Element <button class=\"HQzyZ\" aria-expanded=\"false\" aria-haspopup=\"true\" tabindex=\"0\" aria-label=\"最相關\" jsaction=\"pane.wfvdle18; keydown:pane.wfvdle18\" jslog=\"59550; track:click,keydown_click,keydown_arrow;metadata:WyIwYWhVS0V3aWZ4WXZ5eGRILUFoV1JFWWdLSGJiVERSTVE4QmNJQ0NnQiJd\">...</button> is not clickable at point (298, 469). Other element would receive the click: <div aria-checked=\"false\" data-index=\"0\" role=\"menuitemradio\" tabindex=\"0\" ved=\"1i:1,t:25739,e:0,p:81ZOZOieAsqL-AbZupHgDQ:351\" vet=\"25739\" jsaction=\"click: actionmenu.select; keydown: actionmenu.keydown;\" jstcache=\"439\" jsinstance=\"0\" class=\"fxNQSd\" jsan=\"0.aria-checked,7.fxNQSd,0.data-index,0.role,0.tabindex,0.ved,0.vet,0.jsaction\">...</div>\n  (Session info: MicrosoftEdge=112.0.1722.64)\nStacktrace:\n0   msedgedriver                        0x000000010271611c msedgedriver + 4448540\n1   msedgedriver                        0x000000010270e2e4 msedgedriver + 4416228\n2   msedgedriver                        0x00000001023157e0 msedgedriver + 251872\n3   msedgedriver                        0x000000010234f3d4 msedgedriver + 488404\n4   msedgedriver                        0x000000010234dd04 msedgedriver + 482564\n5   msedgedriver                        0x000000010234c4e4 msedgedriver + 476388\n6   msedgedriver                        0x000000010234bb20 msedgedriver + 473888\n7   msedgedriver                        0x0000000102342dc4 msedgedriver + 437700\n8   msedgedriver                        0x00000001023427d8 msedgedriver + 436184\n9   msedgedriver                        0x000000010237ce48 msedgedriver + 675400\n10  msedgedriver                        0x0000000102340db0 msedgedriver + 429488\n11  msedgedriver                        0x0000000102341f30 msedgedriver + 433968\n12  msedgedriver                        0x00000001026dbd7c msedgedriver + 4210044\n13  msedgedriver                        0x00000001026dfb0c msedgedriver + 4225804\n14  msedgedriver                        0x00000001026df690 msedgedriver + 4224656\n15  msedgedriver                        0x00000001026e4ecc msedgedriver + 4247244\n16  msedgedriver                        0x00000001026e03c4 msedgedriver + 4228036\n17  msedgedriver                        0x00000001026bf548 msedgedriver + 4093256\n18  msedgedriver                        0x00000001026fac44 msedgedriver + 4336708\n19  msedgedriver                        0x00000001026fad5c msedgedriver + 4336988\n20  msedgedriver                        0x0000000102708ae8 msedgedriver + 4393704\n21  libsystem_pthread.dylib             0x00000001863a606c _pthread_start + 148\n22  libsystem_pthread.dylib             0x00000001863a0e2c thread_start + 8\n",
     "output_type": "error",
     "traceback": [
      "\u001b[0;31m---------------------------------------------------------------------------\u001b[0m",
      "\u001b[0;31mElementClickInterceptedException\u001b[0m          Traceback (most recent call last)",
      "Cell \u001b[0;32mIn[44], line 6\u001b[0m\n\u001b[1;32m      4\u001b[0m \u001b[39m#This will open a dropdown menu with sorting options.\u001b[39;00m\n\u001b[1;32m      5\u001b[0m Sorted\u001b[39m=\u001b[39m WebDriverWait(browser, \u001b[39m10\u001b[39m)\u001b[39m.\u001b[39muntil(EC\u001b[39m.\u001b[39melement_to_be_clickable((By\u001b[39m.\u001b[39mXPATH, \u001b[39m'\u001b[39m\u001b[39m//*[@id=\u001b[39m\u001b[39m\"\u001b[39m\u001b[39mQA0Szd\u001b[39m\u001b[39m\"\u001b[39m\u001b[39m]/div/div/div[1]/div[2]/div/div[1]/div/div/div[5]/div[9]/button[2]\u001b[39m\u001b[39m'\u001b[39m)))\n\u001b[0;32m----> 6\u001b[0m Sorted\u001b[39m.\u001b[39;49mclick()\n\u001b[1;32m      7\u001b[0m \u001b[39m#This will select the option to sort the reviews by the most recent ones.\u001b[39;00m\n\u001b[1;32m      8\u001b[0m Latest\u001b[39m=\u001b[39m WebDriverWait(browser, \u001b[39m10\u001b[39m)\u001b[39m.\u001b[39muntil(EC\u001b[39m.\u001b[39mpresence_of_all_elements_located((By\u001b[39m.\u001b[39mXPATH, \u001b[39m'\u001b[39m\u001b[39m//*[@id=\u001b[39m\u001b[39m\"\u001b[39m\u001b[39maction-menu\u001b[39m\u001b[39m\"\u001b[39m\u001b[39m]\u001b[39m\u001b[39m'\u001b[39m)))\n",
      "File \u001b[0;32m~/opt/anaconda3/envs/DataScience/lib/python3.10/site-packages/selenium/webdriver/remote/webelement.py:94\u001b[0m, in \u001b[0;36mWebElement.click\u001b[0;34m(self)\u001b[0m\n\u001b[1;32m     92\u001b[0m \u001b[39mdef\u001b[39;00m \u001b[39mclick\u001b[39m(\u001b[39mself\u001b[39m) \u001b[39m-\u001b[39m\u001b[39m>\u001b[39m \u001b[39mNone\u001b[39;00m:\n\u001b[1;32m     93\u001b[0m     \u001b[39m\"\"\"Clicks the element.\"\"\"\u001b[39;00m\n\u001b[0;32m---> 94\u001b[0m     \u001b[39mself\u001b[39;49m\u001b[39m.\u001b[39;49m_execute(Command\u001b[39m.\u001b[39;49mCLICK_ELEMENT)\n",
      "File \u001b[0;32m~/opt/anaconda3/envs/DataScience/lib/python3.10/site-packages/selenium/webdriver/remote/webelement.py:403\u001b[0m, in \u001b[0;36mWebElement._execute\u001b[0;34m(self, command, params)\u001b[0m\n\u001b[1;32m    401\u001b[0m     params \u001b[39m=\u001b[39m {}\n\u001b[1;32m    402\u001b[0m params[\u001b[39m\"\u001b[39m\u001b[39mid\u001b[39m\u001b[39m\"\u001b[39m] \u001b[39m=\u001b[39m \u001b[39mself\u001b[39m\u001b[39m.\u001b[39m_id\n\u001b[0;32m--> 403\u001b[0m \u001b[39mreturn\u001b[39;00m \u001b[39mself\u001b[39;49m\u001b[39m.\u001b[39;49m_parent\u001b[39m.\u001b[39;49mexecute(command, params)\n",
      "File \u001b[0;32m~/opt/anaconda3/envs/DataScience/lib/python3.10/site-packages/selenium/webdriver/remote/webdriver.py:440\u001b[0m, in \u001b[0;36mWebDriver.execute\u001b[0;34m(self, driver_command, params)\u001b[0m\n\u001b[1;32m    438\u001b[0m response \u001b[39m=\u001b[39m \u001b[39mself\u001b[39m\u001b[39m.\u001b[39mcommand_executor\u001b[39m.\u001b[39mexecute(driver_command, params)\n\u001b[1;32m    439\u001b[0m \u001b[39mif\u001b[39;00m response:\n\u001b[0;32m--> 440\u001b[0m     \u001b[39mself\u001b[39;49m\u001b[39m.\u001b[39;49merror_handler\u001b[39m.\u001b[39;49mcheck_response(response)\n\u001b[1;32m    441\u001b[0m     response[\u001b[39m\"\u001b[39m\u001b[39mvalue\u001b[39m\u001b[39m\"\u001b[39m] \u001b[39m=\u001b[39m \u001b[39mself\u001b[39m\u001b[39m.\u001b[39m_unwrap_value(response\u001b[39m.\u001b[39mget(\u001b[39m\"\u001b[39m\u001b[39mvalue\u001b[39m\u001b[39m\"\u001b[39m, \u001b[39mNone\u001b[39;00m))\n\u001b[1;32m    442\u001b[0m     \u001b[39mreturn\u001b[39;00m response\n",
      "File \u001b[0;32m~/opt/anaconda3/envs/DataScience/lib/python3.10/site-packages/selenium/webdriver/remote/errorhandler.py:245\u001b[0m, in \u001b[0;36mErrorHandler.check_response\u001b[0;34m(self, response)\u001b[0m\n\u001b[1;32m    243\u001b[0m         alert_text \u001b[39m=\u001b[39m value[\u001b[39m\"\u001b[39m\u001b[39malert\u001b[39m\u001b[39m\"\u001b[39m]\u001b[39m.\u001b[39mget(\u001b[39m\"\u001b[39m\u001b[39mtext\u001b[39m\u001b[39m\"\u001b[39m)\n\u001b[1;32m    244\u001b[0m     \u001b[39mraise\u001b[39;00m exception_class(message, screen, stacktrace, alert_text)  \u001b[39m# type: ignore[call-arg]  # mypy is not smart enough here\u001b[39;00m\n\u001b[0;32m--> 245\u001b[0m \u001b[39mraise\u001b[39;00m exception_class(message, screen, stacktrace)\n",
      "\u001b[0;31mElementClickInterceptedException\u001b[0m: Message: element click intercepted: Element <button class=\"HQzyZ\" aria-expanded=\"false\" aria-haspopup=\"true\" tabindex=\"0\" aria-label=\"最相關\" jsaction=\"pane.wfvdle18; keydown:pane.wfvdle18\" jslog=\"59550; track:click,keydown_click,keydown_arrow;metadata:WyIwYWhVS0V3aWZ4WXZ5eGRILUFoV1JFWWdLSGJiVERSTVE4QmNJQ0NnQiJd\">...</button> is not clickable at point (298, 469). Other element would receive the click: <div aria-checked=\"false\" data-index=\"0\" role=\"menuitemradio\" tabindex=\"0\" ved=\"1i:1,t:25739,e:0,p:81ZOZOieAsqL-AbZupHgDQ:351\" vet=\"25739\" jsaction=\"click: actionmenu.select; keydown: actionmenu.keydown;\" jstcache=\"439\" jsinstance=\"0\" class=\"fxNQSd\" jsan=\"0.aria-checked,7.fxNQSd,0.data-index,0.role,0.tabindex,0.ved,0.vet,0.jsaction\">...</div>\n  (Session info: MicrosoftEdge=112.0.1722.64)\nStacktrace:\n0   msedgedriver                        0x000000010271611c msedgedriver + 4448540\n1   msedgedriver                        0x000000010270e2e4 msedgedriver + 4416228\n2   msedgedriver                        0x00000001023157e0 msedgedriver + 251872\n3   msedgedriver                        0x000000010234f3d4 msedgedriver + 488404\n4   msedgedriver                        0x000000010234dd04 msedgedriver + 482564\n5   msedgedriver                        0x000000010234c4e4 msedgedriver + 476388\n6   msedgedriver                        0x000000010234bb20 msedgedriver + 473888\n7   msedgedriver                        0x0000000102342dc4 msedgedriver + 437700\n8   msedgedriver                        0x00000001023427d8 msedgedriver + 436184\n9   msedgedriver                        0x000000010237ce48 msedgedriver + 675400\n10  msedgedriver                        0x0000000102340db0 msedgedriver + 429488\n11  msedgedriver                        0x0000000102341f30 msedgedriver + 433968\n12  msedgedriver                        0x00000001026dbd7c msedgedriver + 4210044\n13  msedgedriver                        0x00000001026dfb0c msedgedriver + 4225804\n14  msedgedriver                        0x00000001026df690 msedgedriver + 4224656\n15  msedgedriver                        0x00000001026e4ecc msedgedriver + 4247244\n16  msedgedriver                        0x00000001026e03c4 msedgedriver + 4228036\n17  msedgedriver                        0x00000001026bf548 msedgedriver + 4093256\n18  msedgedriver                        0x00000001026fac44 msedgedriver + 4336708\n19  msedgedriver                        0x00000001026fad5c msedgedriver + 4336988\n20  msedgedriver                        0x0000000102708ae8 msedgedriver + 4393704\n21  libsystem_pthread.dylib             0x00000001863a606c _pthread_start + 148\n22  libsystem_pthread.dylib             0x00000001863a0e2c thread_start + 8\n"
     ]
    }
   ],
   "source": [
    "#from selenium.webdriver.support.ui import WebDriverWait\n",
    "#from selenium.webdriver.support import expected_conditions as EC\n",
    "\n",
    "#This will open a dropdown menu with sorting options.\n",
    "Sorted= WebDriverWait(browser, 10).until(EC.element_to_be_clickable((By.XPATH, '//*[@id=\"QA0Szd\"]/div/div/div[1]/div[2]/div/div[1]/div/div/div[5]/div[9]/button[2]')))\n",
    "Sorted.click()\n",
    "#This will select the option to sort the reviews by the most recent ones.\n",
    "Latest= WebDriverWait(browser, 10).until(EC.presence_of_all_elements_located((By.XPATH, '//*[@id=\"action-menu\"]')))\n",
    "Latest.click()\n",
    "time.sleep(3)"
   ]
  },
  {
   "cell_type": "code",
   "execution_count": null,
   "id": "cf57d4c8",
   "metadata": {},
   "outputs": [],
   "source": []
  }
 ],
 "metadata": {
  "kernelspec": {
   "display_name": "DataScience",
   "language": "python",
   "name": "python3"
  },
  "language_info": {
   "codemirror_mode": {
    "name": "ipython",
    "version": 3
   },
   "file_extension": ".py",
   "mimetype": "text/x-python",
   "name": "python",
   "nbconvert_exporter": "python",
   "pygments_lexer": "ipython3",
   "version": "3.10.10"
  },
  "vscode": {
   "interpreter": {
    "hash": "f093c2088bab89012ad7014b7da640672fbd1a27c1f0df7fb963e9e24c74bb83"
   }
  }
 },
 "nbformat": 4,
 "nbformat_minor": 5
}
