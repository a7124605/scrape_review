{
 "cells": [
  {
   "cell_type": "code",
   "execution_count": 1,
   "metadata": {},
   "outputs": [],
   "source": [
    "import csv\n",
    "import pandas as pd\n",
    "import re\n",
    "\n",
    "\n",
    "\n",
    "def keep_only_chinese(text):\n",
    "    # 定義中文字元的 Unicode 範圍\n",
    "    # 注意：此範例僅包括漢字，如果還需要保留其他中文符號如「，。」等，請自行增加範圍\n",
    "    chinese_range = u'[\\u4e00-\\u9fff]+'\n",
    "    # 使用正則表達式過濾掉非繁體中文部分\n",
    "    chinese_text = re.findall(chinese_range, text)\n",
    "    \n",
    "    \n",
    "    # 將過濾後的結果轉成字串並返回\n",
    "    return ''.join(chinese_text)\n",
    "\n",
    "# 讀取原始資料\n",
    "with open('/Users/chris/Desktop/Net_Scrapping/Selenium_driver/output/raw_review/KaizerHotel_agoda_review_raw.csv', 'r', encoding=\"utf-8\") as f:\n",
    "    reader = csv.DictReader(f)\n",
    "    reviews = [row['review'] for row in reader]\n",
    "\n",
    "# 處理評論\n",
    "chinese_reviews = [keep_only_chinese(review) for review in reviews]\n",
    "\n",
    "# 將處理後的評論寫入新的 csv 檔案\n",
    "with open('/Users/chris/Desktop/Net_Scrapping/Selenium_driver/output/agoda_review_filtered.csv', 'w', encoding=\"utf-8\", newline='') as f:\n",
    "    writer = csv.writer(f)\n",
    "    writer.writerow(['review'])#create header\n",
    "    for review in chinese_reviews:\n",
    "        if review:\n",
    "            writer.writerow([review])\n"
   ]
  },
  {
   "cell_type": "code",
   "execution_count": null,
   "metadata": {},
   "outputs": [],
   "source": []
  }
 ],
 "metadata": {
  "kernelspec": {
   "display_name": "DataScience",
   "language": "python",
   "name": "python3"
  },
  "language_info": {
   "codemirror_mode": {
    "name": "ipython",
    "version": 3
   },
   "file_extension": ".py",
   "mimetype": "text/x-python",
   "name": "python",
   "nbconvert_exporter": "python",
   "pygments_lexer": "ipython3",
   "version": "3.10.10"
  },
  "orig_nbformat": 4
 },
 "nbformat": 4,
 "nbformat_minor": 2
}
