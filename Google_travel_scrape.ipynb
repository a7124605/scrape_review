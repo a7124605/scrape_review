{
 "cells": [
  {
   "cell_type": "code",
   "execution_count": 1,
   "id": "230422c1",
   "metadata": {},
   "outputs": [],
   "source": [
    "from selenium import webdriver\n",
    "\n",
    "\n",
    "from selenium.webdriver.common.by import By\n",
    "from selenium.webdriver.common.keys import Keys\n",
    "import time\n",
    "\n",
    "browser = webdriver.Edge()\n",
    "browser.get('https://www.google.com/')\n"
   ]
  },
  {
   "cell_type": "code",
   "execution_count": 3,
   "id": "c8073680",
   "metadata": {},
   "outputs": [],
   "source": [
    "import requests\n",
    "import json\n",
    "#點選「更多評論」後的網址\n",
    "link = \"https://www.google.com.tw/travel/hotels/entity/ChcIgdn6i_z3gLcrGgsvZy8xdnhjdDRsdhAB/reviews?sa=X&utm_campaign=sharing&utm_medium=link&utm_source=htls&ts=CAESABogCgIaABIaEhQKBwjnDxAFGAcSBwjnDxAFGAgYATICEAAqCQoFOgNVU0QaAA&ved=0CAAQ5JsGahcKEwigsZ3QseD-AhUAAAAAHQAAAAAQBA\"\n",
    "browser.get(link)\n",
    "time.sleep(2)\n",
    "\n",
    "#評論排序選單\n",
    "sortedstroll = browser.find_element(By.XPATH,'//*[@id=\"reviews\"]/c-wiz/c-wiz/div/div/div/div/div[3]/div/div[3]/span[1]/span/div/div[1]/div[1]/div[1]')\n",
    "sortedstroll.click()\n",
    "time.sleep(1)\n",
    "#依造最新的來做評論排序\n",
    "Latest =  browser.find_element(By.XPATH,'//*[@id=\"reviews\"]/c-wiz/c-wiz/div/div/div/div/div[3]/div/div[3]/span[1]/span/div[1]/div[2]/div[2]')\n",
    "Latest.click()\n",
    "time.sleep(5)"
   ]
  },
  {
   "cell_type": "code",
   "execution_count": 5,
   "id": "957ff798",
   "metadata": {},
   "outputs": [],
   "source": [
    "#Scroll down the page in Google_Travel\n",
    "#Click \"Readmore\"\n",
    "\n",
    "import pandas as pd\n",
    "\n",
    "#這個可以用在google travel下滑網頁\n",
    "#也可以用來點readmore\n",
    "\n",
    "review_list = []\n",
    "count = 0\n",
    "\n",
    "\n",
    "def click_read_more():\n",
    "    item = browser.find_elements(By.XPATH,'//*[@id=\"reviews\"]/c-wiz/c-wiz/div/div/div/div/div[4]')#用來定位Read more按鈕\n",
    "    for i in item:\n",
    "        buttons = i.find_elements(By.CSS_SELECTOR,'span[jsname=\"kDNJsb\"]')#找出所有的閱讀完整內容\n",
    "        for button in buttons:\n",
    "            if button.text == \"閱讀完整內容\":\n",
    "                #點擊的程式碼，功能類似click()\n",
    "                browser.execute_script(\"arguments[0].click();\", button)\n",
    "                \n",
    "        \n",
    "    time.sleep(1)\n",
    "\n",
    "while True:\n",
    "    \n",
    "    count+=1\n",
    "    last_height = browser.execute_script(\"return document.body.scrollHeight\")  # checking page height in pixels before scrolling\n",
    "    browser.execute_script(\"window.scrollBy(0, 10000)\")                        # scroll down 10000 pixels\n",
    "    browser.execute_script(\"window.scrollBy(0, -200)\")                         # scroll up by 200 pixels (if this is not done, new data will not be loaded)\n",
    "    time.sleep(2)\n",
    "    new_height = browser.execute_script(\"return document.body.scrollHeight\")   # check page height after scrolling\n",
    "    click_read_more()\n",
    "    #點開「閱讀完整內容」\n",
    "    #if count == 5:\n",
    "     #   click_read_more()\n",
    "            \n",
    "    # if the height of the start of scrolling and the height of the end of scrolling are equal, then the scrolling is completed and you can exit the loop\n",
    "    if new_height == last_height:\n",
    "        break\n",
    "\n",
    "\n"
   ]
  },
  {
   "cell_type": "code",
   "execution_count": null,
   "id": "cf57d4c8",
   "metadata": {},
   "outputs": [],
   "source": [
    "#get_review\n",
    "\n",
    "review_list=[]\n",
    "comments = browser.find_elements(By.XPATH, '//div[@class=\"K7oBsc\"]//span')\n",
    "\n",
    "for comment in comments:\n",
    "    review_list.append(comment.text)\n",
    "\n",
    "    review = pd.DataFrame({'review': review_list,})\n",
    "\n",
    "review.to_csv(r'/Users/chris/Desktop/Net_Scrapping/Selenium_driver/output/Kaizer_hotel_google_review_0508.csv',index=False)\n"
   ]
  }
 ],
 "metadata": {
  "kernelspec": {
   "display_name": "DataScience",
   "language": "python",
   "name": "python3"
  },
  "language_info": {
   "codemirror_mode": {
    "name": "ipython",
    "version": 3
   },
   "file_extension": ".py",
   "mimetype": "text/x-python",
   "name": "python",
   "nbconvert_exporter": "python",
   "pygments_lexer": "ipython3",
   "version": "3.10.10"
  },
  "vscode": {
   "interpreter": {
    "hash": "f093c2088bab89012ad7014b7da640672fbd1a27c1f0df7fb963e9e24c74bb83"
   }
  }
 },
 "nbformat": 4,
 "nbformat_minor": 5
}
