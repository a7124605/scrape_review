{
 "cells": [
  {
   "cell_type": "code",
   "execution_count": 1,
   "metadata": {},
   "outputs": [],
   "source": [
    "from selenium import webdriver\n",
    "\n",
    "\n",
    "from selenium.webdriver.common.by import By\n",
    "from selenium.webdriver.common.keys import Keys\n",
    "import time\n",
    "\n",
    "browser = webdriver.Edge()\n",
    "browser.get('https://www.google.com/')\n"
   ]
  },
  {
   "cell_type": "code",
   "execution_count": 2,
   "metadata": {},
   "outputs": [],
   "source": [
    "import requests\n",
    "import json\n",
    "#點選「更多評論」後的網址\n",
    "link = \"https://www.booking.com/reviewlist.zh-tw.html?aid=309654&label=hotels-chinese-zh-xt-not-tw-3E%2AoDaZgyjzN82axX_iA0wS168630596047%3Apl%3Ata%3Ap1%3Ap2%3Aac%3Aap%3Aneg%3Afi%3Atikwd-320553767261%3Alp9051484%3Ali%3Adec%3Adm%3Appccp%3DUmFuZG9tSVYkc2RlIyh9YcsZ-Id2vkzIfTmYhvC5HOg&sid=612b1d9bc12dd29048d367a325a1adf8&srpvid=6379249454980051&;cc1=tw&pagename=caesar-park-kenting&r_lang=&review_topic_category_id=&type=total&score=&sort=f_recent_desc&time_of_year=&dist=1&offset=&rows=10&rurl=&text=&translate=&_=1687267902319\"\n",
    "browser.get(link)\n",
    "time.sleep(2)"
   ]
  },
  {
   "cell_type": "code",
   "execution_count": 5,
   "metadata": {},
   "outputs": [
    {
     "name": "stdout",
     "output_type": "stream",
     "text": [
      "title:  位置雖佳.但價格不便宜.飯店不少小細節不貼心.沒有高級飯店的水準.應該不會再去了.\n",
      "review: 位置佳.早餐多樣豐富好吃.服務人員態度親切積極.\n",
      "review: 網路差.很差.非常差....戶外泡澡池材質很粗造.踩踏下去很不舒服.若是跪著.膝蓋很痛..\n",
      "------------------\n",
      "title:  傑出\n",
      "review: 客人沒有留下任何評語。\n",
      "------------------\n",
      "title:  傑出\n",
      "review: 客人沒有留下任何評語。\n",
      "------------------\n",
      "title:  好極了\n",
      "review: 客人沒有留下任何評語。\n",
      "------------------\n",
      "title:  傑出\n",
      "review: 客人沒有留下任何評語。\n",
      "------------------\n",
      "title:  非常好\n",
      "review: 房務員來加裝小朋友護欄，很親切、用心。 去沙灘可以登記使用沙灘傘跟躺椅，一房一組。\n",
      "review: 早餐選第一時段，興許是入住人數眾多，桌數不夠/整理不及，導致住客在外排隊等待入席，但不巧用餐時段快結束，吃得很匆忙。\n",
      "------------------\n",
      "title:  好極了\n",
      "review: 房間乾淨整潔，自然光線充足明亮，後門直通飯店泳池，非常方便，室外的浴池夠大，給小朋友玩水也很適合，房間的戶外區有僞芭厘島風，停車用餐皆便利，過馬路就是海灘。\n",
      "------------------\n",
      "title:  浴室拉門有點問題,無法拉動門,有反應給房務,但尚未維修\n",
      "review: 客人沒有留下任何評語。\n",
      "------------------\n",
      "title:  傑出\n",
      "review: 客人沒有留下任何評語。\n",
      "------------------\n",
      "title:  好極了\n",
      "review: 客人沒有留下任何評語。\n",
      "------------------\n"
     ]
    }
   ],
   "source": [
    "#0620 :可以抓到標題、正評論、負評，需要寫判斷式來辨識正評、負評\n",
    "#還要寫程式來讓selenium可以換頁\n",
    "\n",
    "\n",
    "review_blocks = browser.find_elements(By.CLASS_NAME, \"c-review-block__right\")\n",
    "\n",
    "\n",
    "# 逐一處理每個評論區塊\n",
    "for block in review_blocks:\n",
    "    # 找到標題元素\n",
    "    title_element = block.find_element(By.CLASS_NAME, \"c-review-block__title\")\n",
    "    title = title_element.text\n",
    "    print(f\"title:  {title}\")\n",
    "\n",
    "    # 找到評論元素\n",
    "    reviews = block.find_elements(By.CLASS_NAME, \"c-review__body\")\n",
    "    for review in reviews:\n",
    "        \n",
    "        review_text = review.text\n",
    "        print(f\"review: {review_text}\")\n",
    "\n",
    "    print(\"------------------\")"
   ]
  },
  {
   "cell_type": "code",
   "execution_count": null,
   "metadata": {},
   "outputs": [],
   "source": []
  }
 ],
 "metadata": {
  "kernelspec": {
   "display_name": "DataScience",
   "language": "python",
   "name": "python3"
  },
  "language_info": {
   "codemirror_mode": {
    "name": "ipython",
    "version": 3
   },
   "file_extension": ".py",
   "mimetype": "text/x-python",
   "name": "python",
   "nbconvert_exporter": "python",
   "pygments_lexer": "ipython3",
   "version": "3.10.10"
  },
  "orig_nbformat": 4
 },
 "nbformat": 4,
 "nbformat_minor": 2
}
