{
 "cells": [
  {
   "cell_type": "code",
   "execution_count": 18,
   "metadata": {},
   "outputs": [],
   "source": [
    "from selenium import webdriver\n",
    "\n",
    "\n",
    "from selenium.webdriver.common.by import By\n",
    "from selenium.webdriver.common.keys import Keys\n",
    "import time\n",
    "\n",
    "browser = webdriver.Edge()\n",
    "browser.get('https://www.google.com/')\n"
   ]
  },
  {
   "cell_type": "code",
   "execution_count": 19,
   "metadata": {},
   "outputs": [],
   "source": [
    "import requests\n",
    "import json\n",
    "#點選「更多評論」後的網址\n",
    "link = \"https://www.booking.com/reviewlist.zh-tw.html?aid=309654&label=hotels-chinese-zh-xt-not-tw-3E%2AoDaZgyjzN82axX_iA0wS168630596047%3Apl%3Ata%3Ap1%3Ap2%3Aac%3Aap%3Aneg%3Afi%3Atikwd-320553767261%3Alp9051484%3Ali%3Adec%3Adm%3Appccp%3DUmFuZG9tSVYkc2RlIyh9YcsZ-Id2vkzIfTmYhvC5HOg&sid=612b1d9bc12dd29048d367a325a1adf8&srpvid=6379249454980051&;cc1=tw&pagename=caesar-park-kenting&r_lang=&review_topic_category_id=&type=total&score=&sort=f_recent_desc&time_of_year=&dist=1&offset=&rows=10&rurl=&text=&translate=&_=1687267902319\"\n",
    "browser.get(link)\n",
    "time.sleep(2)"
   ]
  },
  {
   "cell_type": "code",
   "execution_count": 16,
   "metadata": {},
   "outputs": [],
   "source": []
  },
  {
   "cell_type": "code",
   "execution_count": 17,
   "metadata": {},
   "outputs": [
    {
     "name": "stdout",
     "output_type": "stream",
     "text": [
      "[{'title': '令人愉悅', 'positive_review': None, 'negative_review': None}, {'title': '位置雖佳.但價格不便宜.飯店不少小細節不貼心.沒有高級飯店的水準.應該不會再去了.', 'positive_review': '網路差.很差.非常差....戶外泡澡池材質很粗造.踩踏下去很不舒服.若是跪著.膝蓋很痛..', 'negative_review': '網路差.很差.非常差....戶外泡澡池材質很粗造.踩踏下去很不舒服.若是跪著.膝蓋很痛..'}, {'title': '傑出', 'positive_review': None, 'negative_review': None}, {'title': '傑出', 'positive_review': None, 'negative_review': None}, {'title': '好極了', 'positive_review': None, 'negative_review': None}, {'title': '傑出', 'positive_review': None, 'negative_review': None}, {'title': '非常好', 'positive_review': '早餐選第一時段，興許是入住人數眾多，桌數不夠/整理不及，導致住客在外排隊等待入席，但不巧用餐時段快結束，吃得很匆忙。', 'negative_review': '早餐選第一時段，興許是入住人數眾多，桌數不夠/整理不及，導致住客在外排隊等待入席，但不巧用餐時段快結束，吃得很匆忙。'}, {'title': '好極了', 'positive_review': '房間乾淨整潔，自然光線充足明亮，後門直通飯店泳池，非常方便，室外的浴池夠大，給小朋友玩水也很適合，房間的戶外區有僞芭厘島風，停車用餐皆便利，過馬路就是海灘。', 'negative_review': None}, {'title': '浴室拉門有點問題,無法拉動門,有反應給房務,但尚未維修', 'positive_review': None, 'negative_review': None}, {'title': '傑出', 'positive_review': None, 'negative_review': None}]\n"
     ]
    }
   ],
   "source": [
    "print(saved_review)"
   ]
  },
  {
   "cell_type": "code",
   "execution_count": 41,
   "metadata": {},
   "outputs": [],
   "source": [
    "def scrape_review():\n",
    "    blocks = browser.find_elements(By.CLASS_NAME, \"c-review-block__right\")\n",
    "    saved_review = []\n",
    "\n",
    "    # 逐一處理每個評論區塊\n",
    "    for block in blocks:\n",
    "        review_dict = {\n",
    "            'title': None,\n",
    "            'positive_review': None,\n",
    "            'negative_review': None\n",
    "        }\n",
    "\n",
    "        # 找到標題元素\n",
    "        title_element = block.find_element(By.CLASS_NAME, \"c-review-block__title\")\n",
    "        review_dict['title'] = title_element.text\n",
    "\n",
    "        # 找到評論元素\n",
    "        review_blocks = block.find_elements(By.CLASS_NAME, \"c-review\")\n",
    "        for review_block in review_blocks:\n",
    "            emotion_reviews = review_block.find_elements(By.CLASS_NAME, \"c-review__row\")\n",
    "\n",
    "            for emotion_review in emotion_reviews:\n",
    "                try:\n",
    "                    review_prefix = emotion_review.find_element(By.CLASS_NAME, \"c-review__prefix\").text\n",
    "                    review_body = emotion_review.find_element(By.CLASS_NAME, \"c-review__body\").text\n",
    "\n",
    "                    if \"喜歡\" in review_prefix:\n",
    "                        if review_dict['positive_review'] is None:\n",
    "                            review_dict['positive_review'] = review_body\n",
    "                    if \"不喜歡\" in review_prefix:\n",
    "                        if review_dict['negative_review'] is None:\n",
    "                            review_dict['negative_review'] = review_body\n",
    "                        \n",
    "                except NoSuchElementException:\n",
    "                    pass\n",
    "                \n",
    "\n",
    "\n",
    "        saved_review.append(review_dict)\n",
    "\n",
    "    return saved_review\n",
    "\n",
    "saved_review = scrape_review()\n"
   ]
  },
  {
   "cell_type": "code",
   "execution_count": 28,
   "metadata": {},
   "outputs": [
    {
     "name": "stdout",
     "output_type": "stream",
     "text": [
      "[{'title': '令人愉悅', 'positive_review': None, 'negative_review': None}, {'title': '位置雖佳.但價格不便宜.飯店不少小細節不貼心.沒有高級飯店的水準.應該不會再去了.', 'positive_review': '網路差.很差.非常差....戶外泡澡池材質很粗造.踩踏下去很不舒服.若是跪著.膝蓋很痛..', 'negative_review': '網路差.很差.非常差....戶外泡澡池材質很粗造.踩踏下去很不舒服.若是跪著.膝蓋很痛..'}, {'title': '傑出', 'positive_review': None, 'negative_review': None}, {'title': '傑出', 'positive_review': None, 'negative_review': None}, {'title': '好極了', 'positive_review': None, 'negative_review': None}, {'title': '傑出', 'positive_review': None, 'negative_review': None}, {'title': '非常好', 'positive_review': '早餐選第一時段，興許是入住人數眾多，桌數不夠/整理不及，導致住客在外排隊等待入席，但不巧用餐時段快結束，吃得很匆忙。', 'negative_review': '早餐選第一時段，興許是入住人數眾多，桌數不夠/整理不及，導致住客在外排隊等待入席，但不巧用餐時段快結束，吃得很匆忙。'}, {'title': '好極了', 'positive_review': '房間乾淨整潔，自然光線充足明亮，後門直通飯店泳池，非常方便，室外的浴池夠大，給小朋友玩水也很適合，房間的戶外區有僞芭厘島風，停車用餐皆便利，過馬路就是海灘。', 'negative_review': None}, {'title': '浴室拉門有點問題,無法拉動門,有反應給房務,但尚未維修', 'positive_review': None, 'negative_review': None}, {'title': '傑出', 'positive_review': None, 'negative_review': None}]\n"
     ]
    }
   ],
   "source": [
    "print(saved_review)"
   ]
  },
  {
   "cell_type": "code",
   "execution_count": 42,
   "metadata": {},
   "outputs": [
    {
     "name": "stdout",
     "output_type": "stream",
     "text": [
      "Title: 傑出\n",
      "Positive Review: None\n",
      "Negative Review: None\n",
      "----------------------------------------\n",
      "Title: 令人愉悅\n",
      "Positive Review: None\n",
      "Negative Review: None\n",
      "----------------------------------------\n",
      "Title: 位置雖佳.但價格不便宜.飯店不少小細節不貼心.沒有高級飯店的水準.應該不會再去了.\n",
      "Positive Review: 位置佳.早餐多樣豐富好吃.服務人員態度親切積極.\n",
      "Negative Review: 網路差.很差.非常差....戶外泡澡池材質很粗造.踩踏下去很不舒服.若是跪著.膝蓋很痛..\n",
      "----------------------------------------\n",
      "Title: 傑出\n",
      "Positive Review: None\n",
      "Negative Review: None\n",
      "----------------------------------------\n",
      "Title: 傑出\n",
      "Positive Review: None\n",
      "Negative Review: None\n",
      "----------------------------------------\n",
      "Title: 好極了\n",
      "Positive Review: None\n",
      "Negative Review: None\n",
      "----------------------------------------\n",
      "Title: 傑出\n",
      "Positive Review: None\n",
      "Negative Review: None\n",
      "----------------------------------------\n",
      "Title: 非常好\n",
      "Positive Review: 房務員來加裝小朋友護欄，很親切、用心。 去沙灘可以登記使用沙灘傘跟躺椅，一房一組。\n",
      "Negative Review: 早餐選第一時段，興許是入住人數眾多，桌數不夠/整理不及，導致住客在外排隊等待入席，但不巧用餐時段快結束，吃得很匆忙。\n",
      "----------------------------------------\n",
      "Title: 好極了\n",
      "Positive Review: 房間乾淨整潔，自然光線充足明亮，後門直通飯店泳池，非常方便，室外的浴池夠大，給小朋友玩水也很適合，房間的戶外區有僞芭厘島風，停車用餐皆便利，過馬路就是海灘。\n",
      "Negative Review: None\n",
      "----------------------------------------\n",
      "Title: 浴室拉門有點問題,無法拉動門,有反應給房務,但尚未維修\n",
      "Positive Review: None\n",
      "Negative Review: None\n",
      "----------------------------------------\n"
     ]
    }
   ],
   "source": [
    "for review in saved_review:\n",
    "    print(\"Title:\", review['title'])\n",
    "    print(\"Positive Review:\", review['positive_review'])\n",
    "    print(\"Negative Review:\", review['negative_review'])\n",
    "    print(\"----------------------------------------\")\n"
   ]
  },
  {
   "cell_type": "code",
   "execution_count": null,
   "metadata": {},
   "outputs": [],
   "source": []
  }
 ],
 "metadata": {
  "kernelspec": {
   "display_name": "DataScience",
   "language": "python",
   "name": "python3"
  },
  "language_info": {
   "codemirror_mode": {
    "name": "ipython",
    "version": 3
   },
   "file_extension": ".py",
   "mimetype": "text/x-python",
   "name": "python",
   "nbconvert_exporter": "python",
   "pygments_lexer": "ipython3",
   "version": "3.10.10"
  },
  "orig_nbformat": 4
 },
 "nbformat": 4,
 "nbformat_minor": 2
}
